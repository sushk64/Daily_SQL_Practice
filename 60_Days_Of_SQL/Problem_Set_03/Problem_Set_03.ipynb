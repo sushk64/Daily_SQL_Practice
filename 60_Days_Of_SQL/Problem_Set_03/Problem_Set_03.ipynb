{
 "cells": [
  {
   "cell_type": "markdown",
   "metadata": {},
   "source": [
    "# Problem_Set_03"
   ]
  },
  {
   "cell_type": "code",
   "execution_count": 1,
   "metadata": {},
   "outputs": [],
   "source": [
    "#importing all the libraries\n",
    "import pandas as pd\n",
    "import sqlite3\n",
    "import numpy as np\n",
    "\n",
    "#installing ipython-sql library \n",
    "!pip install ipython-sql\n",
    "\n",
    "df = pd.read_csv(r'/Users/sushantkumbhar/Documents/Stevens Academics/Skills Imporvement/SQL/SQL practice/Day_03_Practice/Dataset/Dataset_03.csv')\n",
    "\n",
    "cnn = sqlite3.connect('Problem_set_03.db')\n",
    "\n",
    "df.to_sql('station',cnn)\n",
    "\n",
    "%load_ext sql\n",
    "\n",
    "%sql sqlite:///Problem_set_03.db\n",
    "\n",
    "%%sql\n",
    "\n",
    "SELECT * FROM station;"
   ]
  },
  {
   "cell_type": "markdown",
   "metadata": {},
   "source": [
    "## Problem 1: Query the following two values from the STATION table:\n",
    "#### o The sum of all values in LAT_N rounded to a scale of 2 decimal places.\n",
    "#### o The sum of all values in LONG_W rounded to a scale of 2 decimal places."
   ]
  },
  {
   "cell_type": "code",
   "execution_count": 13,
   "metadata": {},
   "outputs": [
    {
     "name": "stdout",
     "output_type": "stream",
     "text": [
      "   sqlite:///Problem_set_01.db\n",
      " * sqlite:///Problem_set_03.db\n",
      "Done.\n"
     ]
    },
    {
     "data": {
      "text/html": [
       "<table>\n",
       "    <tr>\n",
       "        <th>Total_LAT_N</th>\n",
       "        <th>Total_LONG_W</th>\n",
       "    </tr>\n",
       "    <tr>\n",
       "        <td>257100.24</td>\n",
       "        <td>284288.85</td>\n",
       "    </tr>\n",
       "</table>"
      ],
      "text/plain": [
       "[(257100.24, 284288.85)]"
      ]
     },
     "execution_count": 13,
     "metadata": {},
     "output_type": "execute_result"
    }
   ],
   "source": [
    "%%sql\n",
    "\n",
    "SELECT ROUND(SUM(LAT_N),2) AS Total_LAT_N, ROUND(SUM(LONG_W),2) AS Total_LONG_W\n",
    "FROM station;"
   ]
  },
  {
   "cell_type": "markdown",
   "metadata": {},
   "source": [
    "## Problem 2: Query the sum of Northern Latitudes (LAT_N) from STATION having values greater than 38.7880 and less than 137.2345. Truncate your answer to 4 decimal places."
   ]
  },
  {
   "cell_type": "code",
   "execution_count": 18,
   "metadata": {},
   "outputs": [
    {
     "name": "stdout",
     "output_type": "stream",
     "text": [
      "   sqlite:///Problem_set_01.db\n",
      " * sqlite:///Problem_set_03.db\n",
      "Done.\n"
     ]
    },
    {
     "data": {
      "text/html": [
       "<table>\n",
       "    <tr>\n",
       "        <th>SUM</th>\n",
       "    </tr>\n",
       "    <tr>\n",
       "        <td>218128.88107704034</td>\n",
       "    </tr>\n",
       "</table>"
      ],
      "text/plain": [
       "[(218128.88107704034,)]"
      ]
     },
     "execution_count": 18,
     "metadata": {},
     "output_type": "execute_result"
    }
   ],
   "source": [
    "%%sql\n",
    "\n",
    "SELECT SUM(LAT_N) AS SUM FROM station\n",
    "WHERE LAT_N BETWEEN 38.7880 AND 137.2345;"
   ]
  },
  {
   "cell_type": "markdown",
   "metadata": {},
   "source": [
    "## Problem 3: Query the greatest value of the Northern Latitudes (LAT_N) from STATION that is less than 137.2345. Truncate your answer to 4 decimal places."
   ]
  },
  {
   "cell_type": "code",
   "execution_count": 20,
   "metadata": {},
   "outputs": [
    {
     "name": "stdout",
     "output_type": "stream",
     "text": [
      "   sqlite:///Problem_set_01.db\n",
      " * sqlite:///Problem_set_03.db\n",
      "Done.\n"
     ]
    },
    {
     "data": {
      "text/html": [
       "<table>\n",
       "    <tr>\n",
       "        <th>LAT_N</th>\n",
       "    </tr>\n",
       "    <tr>\n",
       "        <td>137.0193079</td>\n",
       "    </tr>\n",
       "</table>"
      ],
      "text/plain": [
       "[(137.0193079,)]"
      ]
     },
     "execution_count": 20,
     "metadata": {},
     "output_type": "execute_result"
    }
   ],
   "source": [
    "%%sql\n",
    "\n",
    "SELECT MAX(LAT_N) LAT_N FROM station\n",
    "WHERE LAT_N< 137.2345;"
   ]
  },
  {
   "cell_type": "markdown",
   "metadata": {},
   "source": [
    "## Problem 4: Query the Western Longitude (LONG_W) for the largest Northern Latitude (LAT_N) in STATION that is less than 137.2345 . Round your answer to 4 decimal places."
   ]
  },
  {
   "cell_type": "code",
   "execution_count": 23,
   "metadata": {},
   "outputs": [
    {
     "name": "stdout",
     "output_type": "stream",
     "text": [
      "   sqlite:///Problem_set_01.db\n",
      " * sqlite:///Problem_set_03.db\n",
      "Done.\n"
     ]
    },
    {
     "data": {
      "text/html": [
       "<table>\n",
       "    <tr>\n",
       "        <th>Max_Long_W</th>\n",
       "    </tr>\n",
       "    <tr>\n",
       "        <td>117.25</td>\n",
       "    </tr>\n",
       "</table>"
      ],
      "text/plain": [
       "[(117.25,)]"
      ]
     },
     "execution_count": 23,
     "metadata": {},
     "output_type": "execute_result"
    }
   ],
   "source": [
    "%%sql\n",
    "\n",
    "SELECT ROUND(LONG_W,2) Max_Long_W\n",
    "FROM station\n",
    "WHERE LAT_N<137.2345 \n",
    "ORDER BY LAT_N DESC\n",
    "LIMIT 1;"
   ]
  },
  {
   "cell_type": "markdown",
   "metadata": {},
   "source": [
    "## Problem 5: Query the smallest Northern Latitude (LAT_N) from STATION that is greater than 38.7880 . Round your answer to 4 decimal places.¶"
   ]
  },
  {
   "cell_type": "code",
   "execution_count": 26,
   "metadata": {},
   "outputs": [
    {
     "name": "stdout",
     "output_type": "stream",
     "text": [
      "   sqlite:///Problem_set_01.db\n",
      " * sqlite:///Problem_set_03.db\n",
      "Done.\n"
     ]
    },
    {
     "data": {
      "text/html": [
       "<table>\n",
       "    <tr>\n",
       "        <th>Smallest_above_38.7880</th>\n",
       "    </tr>\n",
       "    <tr>\n",
       "        <td>38.8526</td>\n",
       "    </tr>\n",
       "</table>"
      ],
      "text/plain": [
       "[(38.8526,)]"
      ]
     },
     "execution_count": 26,
     "metadata": {},
     "output_type": "execute_result"
    }
   ],
   "source": [
    "%%sql\n",
    "\n",
    "SELECT ROUND(MIN(LAT_N),4) AS \"Smallest_above_38.7880\"\n",
    "FROM station\n",
    "WHERE LAT_N>38.7880;"
   ]
  },
  {
   "cell_type": "markdown",
   "metadata": {},
   "source": [
    "## Problem 6: Query the Western Longitude (LONG_W) where the smallest Northern Latitude (LAT_N) in STATION is greater than 38.7880 . Round your answer to 4 decimal places."
   ]
  },
  {
   "cell_type": "code",
   "execution_count": 30,
   "metadata": {},
   "outputs": [
    {
     "name": "stdout",
     "output_type": "stream",
     "text": [
      "   sqlite:///Problem_set_01.db\n",
      " * sqlite:///Problem_set_03.db\n",
      "Done.\n"
     ]
    },
    {
     "data": {
      "text/html": [
       "<table>\n",
       "    <tr>\n",
       "        <th>LONG_W</th>\n",
       "    </tr>\n",
       "    <tr>\n",
       "        <td>120.8801</td>\n",
       "    </tr>\n",
       "</table>"
      ],
      "text/plain": [
       "[(120.8801,)]"
      ]
     },
     "execution_count": 30,
     "metadata": {},
     "output_type": "execute_result"
    }
   ],
   "source": [
    "%%sql\n",
    "\n",
    "SELECT ROUND(LONG_W,4) AS LONG_W\n",
    "FROM \n",
    "(SELECT *\n",
    "FROM station\n",
    "WHERE LAT_N>38.7880\n",
    ")\n",
    "ORDER BY LAT_N DESC\n",
    "LIMIT 1;"
   ]
  },
  {
   "cell_type": "code",
   "execution_count": 31,
   "metadata": {},
   "outputs": [
    {
     "name": "stdout",
     "output_type": "stream",
     "text": [
      "   sqlite:///Problem_set_01.db\n",
      " * sqlite:///Problem_set_03.db\n",
      "Done.\n"
     ]
    },
    {
     "data": {
      "text/html": [
       "<table>\n",
       "    <tr>\n",
       "        <th>Smallest value</th>\n",
       "    </tr>\n",
       "    <tr>\n",
       "        <td>70.1378</td>\n",
       "    </tr>\n",
       "    <tr>\n",
       "        <td>70.1378</td>\n",
       "    </tr>\n",
       "    <tr>\n",
       "        <td>70.1378</td>\n",
       "    </tr>\n",
       "    <tr>\n",
       "        <td>70.1378</td>\n",
       "    </tr>\n",
       "    <tr>\n",
       "        <td>70.1378</td>\n",
       "    </tr>\n",
       "    <tr>\n",
       "        <td>70.1378</td>\n",
       "    </tr>\n",
       "</table>"
      ],
      "text/plain": [
       "[(70.1378,), (70.1378,), (70.1378,), (70.1378,), (70.1378,), (70.1378,)]"
      ]
     },
     "execution_count": 31,
     "metadata": {},
     "output_type": "execute_result"
    }
   ],
   "source": [
    "\n",
    "%%sql\n",
    "select round(LONG_W,4) as \"Smallest value\" from STATION \n",
    "  where LAT_N=(select min(LAT_N) from STATION\n",
    "                where LAT_N>38.7880)"
   ]
  },
  {
   "cell_type": "markdown",
   "metadata": {},
   "source": [
    "## Problem 7: Consider P1(a,b) and P2(c,d) to be two points on a 2D plane.\n",
    "#### • a happens to equal the minimum value in Northern Latitude (LAT_N in STATION).\n",
    "#### • b happens to equal the minimum value in Western Longitude (LONG_W in STATION).\n",
    "#### • c happens to equal the maximum value in Northern Latitude (LAT_N in STATION).\n",
    "#### • d happens to equal the maximum value in Western Longitude (LONG_W in STATION).\n",
    "## Query the Manhattan Distance between points P1 and P2 and round it to a scale of 4 decimal places.\n"
   ]
  },
  {
   "cell_type": "code",
   "execution_count": 38,
   "metadata": {},
   "outputs": [
    {
     "name": "stdout",
     "output_type": "stream",
     "text": [
      "   sqlite:///Problem_set_01.db\n",
      " * sqlite:///Problem_set_03.db\n",
      "Done.\n"
     ]
    },
    {
     "data": {
      "text/html": [
       "<table>\n",
       "    <tr>\n",
       "        <th>Manhattan_Distance</th>\n",
       "    </tr>\n",
       "    <tr>\n",
       "        <td>259.6859</td>\n",
       "    </tr>\n",
       "</table>"
      ],
      "text/plain": [
       "[(259.6859,)]"
      ]
     },
     "execution_count": 38,
     "metadata": {},
     "output_type": "execute_result"
    }
   ],
   "source": [
    "%%sql\n",
    "\n",
    "SELECT ROUND((ABS(MIN(LAT_N)-MAX(LAT_N))+ABS(MIN(LONG_W)-MAX(LONG_W))),4) AS Manhattan_Distance\n",
    "FROM station;"
   ]
  },
  {
   "cell_type": "markdown",
   "metadata": {},
   "source": [
    "## Problem 8: Consider P1(a,c) and P2(b,d) to be two points on a 2D plane where (a,b) are the respective minimum and maximum values of Northern Latitude (LAT_N) and (c,d) are the respective minimum and maximum values of Western Longitude (LONG_W) in STATION.\n",
    "## Query the Euclidean Distance between points P1 and P2 and format your answer to display 4 decimal digits"
   ]
  },
  {
   "cell_type": "code",
   "execution_count": 40,
   "metadata": {},
   "outputs": [
    {
     "name": "stdout",
     "output_type": "stream",
     "text": [
      "   sqlite:///Problem_set_01.db\n",
      " * sqlite:///Problem_set_03.db\n",
      "(sqlite3.OperationalError) no such function: SQRT\n",
      "[SQL: SELECT ROUND(SQRT(POW(MIN(LAT_N)-MAX(LAT_N),2)+POW(MIN(LONG_W)-MAX(LONG_W),2)),4) FROM station;]\n",
      "(Background on this error at: http://sqlalche.me/e/13/e3q8)\n"
     ]
    }
   ],
   "source": [
    "%%sql\n",
    "\n",
    "SELECT ROUND(SQRT(POW(MIN(LAT_N)-MAX(LAT_N),2)+POW(MIN(LONG_W)-MAX(LONG_W),2)),4)\n",
    "FROM station;"
   ]
  },
  {
   "cell_type": "markdown",
   "metadata": {},
   "source": [
    "### The above querry works but the sqlite3 isn't supporting the sqrt function"
   ]
  }
 ],
 "metadata": {
  "kernelspec": {
   "display_name": "Python 3",
   "language": "python",
   "name": "python3"
  },
  "language_info": {
   "codemirror_mode": {
    "name": "ipython",
    "version": 3
   },
   "file_extension": ".py",
   "mimetype": "text/x-python",
   "name": "python",
   "nbconvert_exporter": "python",
   "pygments_lexer": "ipython3",
   "version": "3.8.5"
  }
 },
 "nbformat": 4,
 "nbformat_minor": 4
}
