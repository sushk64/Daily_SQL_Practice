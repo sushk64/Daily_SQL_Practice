{
 "cells": [
  {
   "cell_type": "code",
   "execution_count": 1,
   "metadata": {},
   "outputs": [
    {
     "name": "stdout",
     "output_type": "stream",
     "text": [
      "Requirement already satisfied: ipython-sql in /Users/sushantkumbhar/opt/anaconda3/lib/python3.8/site-packages (0.4.0)\n",
      "Requirement already satisfied: six in /Users/sushantkumbhar/opt/anaconda3/lib/python3.8/site-packages (from ipython-sql) (1.15.0)\n",
      "Requirement already satisfied: ipython-genutils>=0.1.0 in /Users/sushantkumbhar/opt/anaconda3/lib/python3.8/site-packages (from ipython-sql) (0.2.0)\n",
      "Requirement already satisfied: prettytable<1 in /Users/sushantkumbhar/opt/anaconda3/lib/python3.8/site-packages (from ipython-sql) (0.7.2)\n",
      "Requirement already satisfied: sqlparse in /Users/sushantkumbhar/opt/anaconda3/lib/python3.8/site-packages (from ipython-sql) (0.4.1)\n",
      "Requirement already satisfied: ipython>=1.0 in /Users/sushantkumbhar/opt/anaconda3/lib/python3.8/site-packages (from ipython-sql) (7.19.0)\n",
      "Requirement already satisfied: sqlalchemy>=0.6.7 in /Users/sushantkumbhar/opt/anaconda3/lib/python3.8/site-packages (from ipython-sql) (1.3.20)\n",
      "Requirement already satisfied: backcall in /Users/sushantkumbhar/opt/anaconda3/lib/python3.8/site-packages (from ipython>=1.0->ipython-sql) (0.2.0)\n",
      "Requirement already satisfied: decorator in /Users/sushantkumbhar/opt/anaconda3/lib/python3.8/site-packages (from ipython>=1.0->ipython-sql) (4.4.2)\n",
      "Requirement already satisfied: traitlets>=4.2 in /Users/sushantkumbhar/opt/anaconda3/lib/python3.8/site-packages (from ipython>=1.0->ipython-sql) (5.0.5)\n",
      "Requirement already satisfied: setuptools>=18.5 in /Users/sushantkumbhar/opt/anaconda3/lib/python3.8/site-packages (from ipython>=1.0->ipython-sql) (50.3.1.post20201107)\n",
      "Requirement already satisfied: prompt-toolkit!=3.0.0,!=3.0.1,<3.1.0,>=2.0.0 in /Users/sushantkumbhar/opt/anaconda3/lib/python3.8/site-packages (from ipython>=1.0->ipython-sql) (3.0.8)\n",
      "Requirement already satisfied: pexpect>4.3; sys_platform != \"win32\" in /Users/sushantkumbhar/opt/anaconda3/lib/python3.8/site-packages (from ipython>=1.0->ipython-sql) (4.8.0)\n",
      "Requirement already satisfied: jedi>=0.10 in /Users/sushantkumbhar/opt/anaconda3/lib/python3.8/site-packages (from ipython>=1.0->ipython-sql) (0.17.1)\n",
      "Requirement already satisfied: pickleshare in /Users/sushantkumbhar/opt/anaconda3/lib/python3.8/site-packages (from ipython>=1.0->ipython-sql) (0.7.5)\n",
      "Requirement already satisfied: pygments in /Users/sushantkumbhar/opt/anaconda3/lib/python3.8/site-packages (from ipython>=1.0->ipython-sql) (2.7.2)\n",
      "Requirement already satisfied: appnope; sys_platform == \"darwin\" in /Users/sushantkumbhar/opt/anaconda3/lib/python3.8/site-packages (from ipython>=1.0->ipython-sql) (0.1.0)\n",
      "Requirement already satisfied: wcwidth in /Users/sushantkumbhar/opt/anaconda3/lib/python3.8/site-packages (from prompt-toolkit!=3.0.0,!=3.0.1,<3.1.0,>=2.0.0->ipython>=1.0->ipython-sql) (0.2.5)\n",
      "Requirement already satisfied: ptyprocess>=0.5 in /Users/sushantkumbhar/opt/anaconda3/lib/python3.8/site-packages (from pexpect>4.3; sys_platform != \"win32\"->ipython>=1.0->ipython-sql) (0.6.0)\n",
      "Requirement already satisfied: parso<0.8.0,>=0.7.0 in /Users/sushantkumbhar/opt/anaconda3/lib/python3.8/site-packages (from jedi>=0.10->ipython>=1.0->ipython-sql) (0.7.0)\n"
     ]
    }
   ],
   "source": [
    "#importing all the libraries\n",
    "import pandas as pd\n",
    "import sqlite3\n",
    "\n",
    "#installing ipython-sql library \n",
    "!pip install ipython-sql"
   ]
  },
  {
   "cell_type": "code",
   "execution_count": 2,
   "metadata": {},
   "outputs": [],
   "source": [
    "df1 = pd.read_csv(r'/Users/sushantkumbhar/Documents/Stevens Academics/Skills Imporvement/SQL/SQL practice/Day_05_Practice/Dataset/Dataset_05_city.csv')\n",
    "df2 = pd.read_csv(r'/Users/sushantkumbhar/Documents/Stevens Academics/Skills Imporvement/SQL/SQL practice/Day_05_Practice/Dataset/Dataset_05_country.csv')\n",
    "\n",
    "cnn = sqlite3.connect('Problem_set_05.db')\n",
    "\n",
    "df1.to_sql('city',cnn)\n",
    "df2.to_sql('country',cnn)\n",
    "\n",
    "%load_ext sql\n",
    "\n",
    "%sql sqlite:///Problem_set_05.db"
   ]
  },
  {
   "cell_type": "code",
   "execution_count": 15,
   "metadata": {},
   "outputs": [
    {
     "name": "stdout",
     "output_type": "stream",
     "text": [
      " * sqlite:///Problem_set_05.db\n",
      "Done.\n"
     ]
    },
    {
     "data": {
      "text/html": [
       "<table>\n",
       "    <tr>\n",
       "        <th>index</th>\n",
       "        <th>ID</th>\n",
       "        <th>NAME</th>\n",
       "        <th>COUNTRYCODE</th>\n",
       "        <th>DISTRICT</th>\n",
       "        <th>POPULATION</th>\n",
       "        <th>index_1</th>\n",
       "        <th>CODE</th>\n",
       "        <th>NAME </th>\n",
       "        <th>CONTINENT</th>\n",
       "        <th>REGION</th>\n",
       "        <th>SURFACEAREA</th>\n",
       "        <th>INDEPYEAR</th>\n",
       "        <th>POPULATION_1</th>\n",
       "        <th>LIFEEXPECTANCY</th>\n",
       "        <th>GNP</th>\n",
       "        <th>GNPOLD</th>\n",
       "        <th>LOCALNAME</th>\n",
       "        <th>GOVERNMENTFORM</th>\n",
       "        <th>HEADOFSTATE</th>\n",
       "        <th>CAPITAL</th>\n",
       "        <th>CODE2</th>\n",
       "    </tr>\n",
       "    <tr>\n",
       "        <td>0</td>\n",
       "        <td>4</td>\n",
       "        <td>Mazar-e-Sharif</td>\n",
       "        <td>AFG</td>\n",
       "        <td>Balkh</td>\n",
       "        <td>127800</td>\n",
       "        <td>16</td>\n",
       "        <td>AFG</td>\n",
       "        <td>Afghanistan</td>\n",
       "        <td>Asia</td>\n",
       "        <td>Southern and Central Asia</td>\n",
       "        <td>652090</td>\n",
       "        <td>1919.0</td>\n",
       "        <td>22720000</td>\n",
       "        <td>45.9</td>\n",
       "        <td>5976</td>\n",
       "        <td>None</td>\n",
       "        <td>Afganistan/Afqanestan</td>\n",
       "        <td>Islamic Emirate</td>\n",
       "        <td>Mohammad Omar</td>\n",
       "        <td>1.0</td>\n",
       "        <td>AF</td>\n",
       "    </tr>\n",
       "    <tr>\n",
       "        <td>0</td>\n",
       "        <td>4</td>\n",
       "        <td>Mazar-e-Sharif</td>\n",
       "        <td>AFG</td>\n",
       "        <td>Balkh</td>\n",
       "        <td>127800</td>\n",
       "        <td>17</td>\n",
       "        <td>AFG</td>\n",
       "        <td>Afghanistan</td>\n",
       "        <td>Asia</td>\n",
       "        <td>Southern and Central Asia</td>\n",
       "        <td>652090</td>\n",
       "        <td>1919.0</td>\n",
       "        <td>22720000</td>\n",
       "        <td>45.9</td>\n",
       "        <td>5976</td>\n",
       "        <td>None</td>\n",
       "        <td>Afganistan/Afqanestan</td>\n",
       "        <td>Islamic Emirate</td>\n",
       "        <td>Mohammad Omar</td>\n",
       "        <td>1.0</td>\n",
       "        <td>AF</td>\n",
       "    </tr>\n",
       "</table>"
      ],
      "text/plain": [
       "[(0, 4, 'Mazar-e-Sharif', 'AFG', 'Balkh', 127800, 16, 'AFG', 'Afghanistan', 'Asia', 'Southern and Central Asia', 652090, 1919.0, 22720000, 45.9, 5976, None, 'Afganistan/Afqanestan', 'Islamic Emirate', 'Mohammad Omar', 1.0, 'AF'),\n",
       " (0, 4, 'Mazar-e-Sharif', 'AFG', 'Balkh', 127800, 17, 'AFG', 'Afghanistan', 'Asia', 'Southern and Central Asia', 652090, 1919.0, 22720000, 45.9, 5976, None, 'Afganistan/Afqanestan', 'Islamic Emirate', 'Mohammad Omar', 1.0, 'AF')]"
      ]
     },
     "execution_count": 15,
     "metadata": {},
     "output_type": "execute_result"
    }
   ],
   "source": [
    "%%sql\n",
    "\n",
    "SELECT * \n",
    "FROM city \n",
    "INNER JOIN country\n",
    "ON city.COUNTRYCODE = country.CODE\n",
    "LIMIT 2;"
   ]
  },
  {
   "cell_type": "code",
   "execution_count": 16,
   "metadata": {},
   "outputs": [
    {
     "name": "stdout",
     "output_type": "stream",
     "text": [
      " * sqlite:///Problem_set_05.db\n",
      "Done.\n"
     ]
    },
    {
     "data": {
      "text/html": [
       "<table>\n",
       "    <tr>\n",
       "        <th>index</th>\n",
       "        <th>ID</th>\n",
       "        <th>NAME</th>\n",
       "        <th>COUNTRYCODE</th>\n",
       "        <th>DISTRICT</th>\n",
       "        <th>POPULATION</th>\n",
       "    </tr>\n",
       "    <tr>\n",
       "        <td>0</td>\n",
       "        <td>4</td>\n",
       "        <td>Mazar-e-Sharif</td>\n",
       "        <td>AFG</td>\n",
       "        <td>Balkh</td>\n",
       "        <td>127800</td>\n",
       "    </tr>\n",
       "    <tr>\n",
       "        <td>1</td>\n",
       "        <td>4</td>\n",
       "        <td>Mazar-e-Sharif</td>\n",
       "        <td>AFG</td>\n",
       "        <td>Balkh</td>\n",
       "        <td>127800</td>\n",
       "    </tr>\n",
       "</table>"
      ],
      "text/plain": [
       "[(0, 4, 'Mazar-e-Sharif', 'AFG', 'Balkh', 127800),\n",
       " (1, 4, 'Mazar-e-Sharif', 'AFG', 'Balkh', 127800)]"
      ]
     },
     "execution_count": 16,
     "metadata": {},
     "output_type": "execute_result"
    }
   ],
   "source": [
    "%%sql\n",
    "\n",
    "SELECT * FROM city LIMIT 2;"
   ]
  },
  {
   "cell_type": "code",
   "execution_count": 17,
   "metadata": {},
   "outputs": [
    {
     "name": "stdout",
     "output_type": "stream",
     "text": [
      " * sqlite:///Problem_set_05.db\n",
      "Done.\n"
     ]
    },
    {
     "data": {
      "text/html": [
       "<table>\n",
       "    <tr>\n",
       "        <th>index</th>\n",
       "        <th>CODE</th>\n",
       "        <th>NAME </th>\n",
       "        <th>CONTINENT</th>\n",
       "        <th>REGION</th>\n",
       "        <th>SURFACEAREA</th>\n",
       "        <th>INDEPYEAR</th>\n",
       "        <th>POPULATION</th>\n",
       "        <th>LIFEEXPECTANCY</th>\n",
       "        <th>GNP</th>\n",
       "        <th>GNPOLD</th>\n",
       "        <th>LOCALNAME</th>\n",
       "        <th>GOVERNMENTFORM</th>\n",
       "        <th>HEADOFSTATE</th>\n",
       "        <th>CAPITAL</th>\n",
       "        <th>CODE2</th>\n",
       "    </tr>\n",
       "    <tr>\n",
       "        <td>0</td>\n",
       "        <td>ABW</td>\n",
       "        <td>Aruba</td>\n",
       "        <td>North America</td>\n",
       "        <td>Caribbean</td>\n",
       "        <td>193</td>\n",
       "        <td>None</td>\n",
       "        <td>103000</td>\n",
       "        <td>78.4</td>\n",
       "        <td>828</td>\n",
       "        <td>793.0</td>\n",
       "        <td>Aruba</td>\n",
       "        <td>Nonmetropolitan Territory of The Netherlands</td>\n",
       "        <td>Beatrix</td>\n",
       "        <td>129.0</td>\n",
       "        <td>AW</td>\n",
       "    </tr>\n",
       "    <tr>\n",
       "        <td>1</td>\n",
       "        <td>ABW</td>\n",
       "        <td>Aruba</td>\n",
       "        <td>North America</td>\n",
       "        <td>Caribbean</td>\n",
       "        <td>193</td>\n",
       "        <td>None</td>\n",
       "        <td>103000</td>\n",
       "        <td>78.4</td>\n",
       "        <td>828</td>\n",
       "        <td>793.0</td>\n",
       "        <td>Aruba</td>\n",
       "        <td>Nonmetropolitan Territory of The Netherlands</td>\n",
       "        <td>Beatrix</td>\n",
       "        <td>129.0</td>\n",
       "        <td>AW</td>\n",
       "    </tr>\n",
       "</table>"
      ],
      "text/plain": [
       "[(0, 'ABW', 'Aruba', 'North America', 'Caribbean', 193, None, 103000, 78.4, 828, 793.0, 'Aruba', 'Nonmetropolitan Territory of The Netherlands', 'Beatrix', 129.0, 'AW'),\n",
       " (1, 'ABW', 'Aruba', 'North America', 'Caribbean', 193, None, 103000, 78.4, 828, 793.0, 'Aruba', 'Nonmetropolitan Territory of The Netherlands', 'Beatrix', 129.0, 'AW')]"
      ]
     },
     "execution_count": 17,
     "metadata": {},
     "output_type": "execute_result"
    }
   ],
   "source": [
    "%%sql\n",
    "\n",
    "SELECT * FROM country LIMIT 2;"
   ]
  },
  {
   "cell_type": "markdown",
   "metadata": {},
   "source": [
    "##  Problem 1: Given the CITY and COUNTRY tables, query the sum of the populations of all cities where the CONTINENT is 'Asia'."
   ]
  },
  {
   "cell_type": "code",
   "execution_count": 23,
   "metadata": {},
   "outputs": [
    {
     "name": "stdout",
     "output_type": "stream",
     "text": [
      " * sqlite:///Problem_set_05.db\n",
      "Done.\n"
     ]
    },
    {
     "data": {
      "text/html": [
       "<table>\n",
       "    <tr>\n",
       "        <th>Total_Asia_Population</th>\n",
       "    </tr>\n",
       "    <tr>\n",
       "        <td>2594734464</td>\n",
       "    </tr>\n",
       "</table>"
      ],
      "text/plain": [
       "[(2594734464,)]"
      ]
     },
     "execution_count": 23,
     "metadata": {},
     "output_type": "execute_result"
    }
   ],
   "source": [
    "%%sql\n",
    "\n",
    "SELECT SUM(city.POPULATION) AS Total_Asia_Population\n",
    "FROM city\n",
    "INNER JOIN country\n",
    "ON city.COUNTRYCODE = country.CODE\n",
    "WHERE CONTINENT = 'Asia';"
   ]
  },
  {
   "cell_type": "markdown",
   "metadata": {},
   "source": [
    "## Problem 2: Given the CITY and COUNTRY tables, query the names of all cities where the CONTINENT is 'Africa'."
   ]
  },
  {
   "cell_type": "code",
   "execution_count": 30,
   "metadata": {},
   "outputs": [
    {
     "name": "stdout",
     "output_type": "stream",
     "text": [
      " * sqlite:///Problem_set_05.db\n",
      "Done.\n"
     ]
    },
    {
     "data": {
      "text/html": [
       "<table>\n",
       "    <tr>\n",
       "        <th>African_cities</th>\n",
       "    </tr>\n",
       "    <tr>\n",
       "        <td>Qina</td>\n",
       "    </tr>\n",
       "    <tr>\n",
       "        <td>Warraq al-Arab</td>\n",
       "    </tr>\n",
       "    <tr>\n",
       "        <td>Libreville</td>\n",
       "    </tr>\n",
       "    <tr>\n",
       "        <td>Alberton</td>\n",
       "    </tr>\n",
       "    <tr>\n",
       "        <td>Brakpan</td>\n",
       "    </tr>\n",
       "    <tr>\n",
       "        <td>Kempton Park</td>\n",
       "    </tr>\n",
       "    <tr>\n",
       "        <td>Klerksdorp</td>\n",
       "    </tr>\n",
       "    <tr>\n",
       "        <td>Uitenhage</td>\n",
       "    </tr>\n",
       "</table>"
      ],
      "text/plain": [
       "[('Qina',),\n",
       " ('Warraq al-Arab',),\n",
       " ('Libreville',),\n",
       " ('Alberton',),\n",
       " ('Brakpan',),\n",
       " ('Kempton Park',),\n",
       " ('Klerksdorp',),\n",
       " ('Uitenhage',)]"
      ]
     },
     "execution_count": 30,
     "metadata": {},
     "output_type": "execute_result"
    }
   ],
   "source": [
    "%%sql\n",
    "\n",
    "SELECT DISTINCT(city.Name) AS African_cities # Using Distinct to limit the result size ;p\n",
    "FROM city\n",
    "INNER JOIN country\n",
    "ON city.COUNTRYCODE = country.CODE\n",
    "WHERE CONTINENT = 'Africa';"
   ]
  },
  {
   "cell_type": "markdown",
   "metadata": {},
   "source": [
    "##  Problem 3: Given the CITY and COUNTRY tables, query the names of all the continents (COUNTRY.Continent) and their respective average city populations (CITY.Population) rounded down to the nearest integer."
   ]
  },
  {
   "cell_type": "code",
   "execution_count": 32,
   "metadata": {
    "scrolled": true
   },
   "outputs": [
    {
     "name": "stdout",
     "output_type": "stream",
     "text": [
      " * sqlite:///Problem_set_05.db\n",
      "Done.\n"
     ]
    },
    {
     "data": {
      "text/html": [
       "<table>\n",
       "    <tr>\n",
       "        <th>CONTINENT</th>\n",
       "        <th>Avg_Population</th>\n",
       "    </tr>\n",
       "    <tr>\n",
       "        <td>Africa</td>\n",
       "        <td>274439.0</td>\n",
       "    </tr>\n",
       "    <tr>\n",
       "        <td>Asia</td>\n",
       "        <td>693038.0512820513</td>\n",
       "    </tr>\n",
       "    <tr>\n",
       "        <td>Europe</td>\n",
       "        <td>175138.3</td>\n",
       "    </tr>\n",
       "    <tr>\n",
       "        <td>Oceania</td>\n",
       "        <td>109189.66666666667</td>\n",
       "    </tr>\n",
       "    <tr>\n",
       "        <td>South America</td>\n",
       "        <td>147435.2</td>\n",
       "    </tr>\n",
       "</table>"
      ],
      "text/plain": [
       "[('Africa', 274439.0),\n",
       " ('Asia', 693038.0512820513),\n",
       " ('Europe', 175138.3),\n",
       " ('Oceania', 109189.66666666667),\n",
       " ('South America', 147435.2)]"
      ]
     },
     "execution_count": 32,
     "metadata": {},
     "output_type": "execute_result"
    }
   ],
   "source": [
    "%%sql\n",
    "\n",
    "SELECT DISTINCT(country.CONTINENT), AVG(city.POPULATION) AS Avg_Population\n",
    "FROM city\n",
    "JOIN country\n",
    "ON city.COUNTRYCODE = country.CODE\n",
    "GROUP BY country.CONTINENT;"
   ]
  },
  {
   "cell_type": "markdown",
   "metadata": {},
   "source": [
    "##  Problem 4: Query the POPULATION and GNP of the country where GNP is maximum."
   ]
  },
  {
   "cell_type": "code",
   "execution_count": 37,
   "metadata": {},
   "outputs": [
    {
     "name": "stdout",
     "output_type": "stream",
     "text": [
      " * sqlite:///Problem_set_05.db\n",
      "Done.\n"
     ]
    },
    {
     "data": {
      "text/html": [
       "<table>\n",
       "    <tr>\n",
       "        <th>POPULATION</th>\n",
       "        <th>GNP</th>\n",
       "    </tr>\n",
       "    <tr>\n",
       "        <td>278357000</td>\n",
       "        <td>8510700</td>\n",
       "    </tr>\n",
       "</table>"
      ],
      "text/plain": [
       "[(278357000, 8510700)]"
      ]
     },
     "execution_count": 37,
     "metadata": {},
     "output_type": "execute_result"
    }
   ],
   "source": [
    "%%sql\n",
    "\n",
    "SELECT POPULATION, GNP\n",
    "FROM country\n",
    "GROUP BY GNP\n",
    "ORDER BY GNP DESC\n",
    "LIMIT 1;"
   ]
  },
  {
   "cell_type": "markdown",
   "metadata": {},
   "source": [
    "##  Problem 5: Query the POPULATION and GNP of the country where GNP is minimum."
   ]
  },
  {
   "cell_type": "code",
   "execution_count": 40,
   "metadata": {},
   "outputs": [
    {
     "name": "stdout",
     "output_type": "stream",
     "text": [
      " * sqlite:///Problem_set_05.db\n",
      "Done.\n"
     ]
    },
    {
     "data": {
      "text/html": [
       "<table>\n",
       "    <tr>\n",
       "        <th>POPULATION</th>\n",
       "        <th>GNP</th>\n",
       "    </tr>\n",
       "    <tr>\n",
       "        <td>600</td>\n",
       "        <td>0</td>\n",
       "    </tr>\n",
       "</table>"
      ],
      "text/plain": [
       "[(600, 0)]"
      ]
     },
     "execution_count": 40,
     "metadata": {},
     "output_type": "execute_result"
    }
   ],
   "source": [
    "%%sql\n",
    "\n",
    "SELECT POPULATION, GNP\n",
    "FROM country\n",
    "GROUP BY GNP\n",
    "ORDER BY GNP \n",
    "LIMIT 1;"
   ]
  },
  {
   "cell_type": "markdown",
   "metadata": {},
   "source": [
    "##  Problem 6: Query the CODE of the country having most LIFEEXPECTANCY."
   ]
  },
  {
   "cell_type": "code",
   "execution_count": 43,
   "metadata": {},
   "outputs": [
    {
     "name": "stdout",
     "output_type": "stream",
     "text": [
      " * sqlite:///Problem_set_05.db\n",
      "Done.\n"
     ]
    },
    {
     "data": {
      "text/html": [
       "<table>\n",
       "    <tr>\n",
       "        <th>CODE</th>\n",
       "        <th>LIFEEXPECTANCY</th>\n",
       "    </tr>\n",
       "    <tr>\n",
       "        <td>AND</td>\n",
       "        <td>83.5</td>\n",
       "    </tr>\n",
       "</table>"
      ],
      "text/plain": [
       "[('AND', 83.5)]"
      ]
     },
     "execution_count": 43,
     "metadata": {},
     "output_type": "execute_result"
    }
   ],
   "source": [
    "%%sql\n",
    "\n",
    "SELECT DISTINCT(CODE), LIFEEXPECTANCY\n",
    "FROM country\n",
    "WHERE LIFEEXPECTANCY = (SELECT MAX(LIFEEXPECTANCY) FROM country);"
   ]
  },
  {
   "cell_type": "markdown",
   "metadata": {},
   "source": [
    "##  Problem 7: Query the CODE and GNP of the largest COUNTRY."
   ]
  },
  {
   "cell_type": "code",
   "execution_count": 45,
   "metadata": {},
   "outputs": [
    {
     "name": "stdout",
     "output_type": "stream",
     "text": [
      " * sqlite:///Problem_set_05.db\n",
      "Done.\n"
     ]
    },
    {
     "data": {
      "text/html": [
       "<table>\n",
       "    <tr>\n",
       "        <th>CODE</th>\n",
       "        <th>GNP</th>\n",
       "    </tr>\n",
       "    <tr>\n",
       "        <td>RUS</td>\n",
       "        <td>276608</td>\n",
       "    </tr>\n",
       "</table>"
      ],
      "text/plain": [
       "[('RUS', 276608)]"
      ]
     },
     "execution_count": 45,
     "metadata": {},
     "output_type": "execute_result"
    }
   ],
   "source": [
    "%%sql\n",
    "\n",
    "SELECT DISTINCT(CODE), GNP\n",
    "FROM country\n",
    "WHERE SURFACEAREA = (SELECT MAX(SURFACEAREA) From country);"
   ]
  },
  {
   "cell_type": "markdown",
   "metadata": {},
   "source": [
    "##  Problem 8: Query the NAME and GNP of the most populated COUNTRY."
   ]
  },
  {
   "cell_type": "code",
   "execution_count": 57,
   "metadata": {},
   "outputs": [
    {
     "name": "stdout",
     "output_type": "stream",
     "text": [
      " * sqlite:///Problem_set_05.db\n",
      "Done.\n"
     ]
    },
    {
     "data": {
      "text/html": [
       "<table>\n",
       "    <tr>\n",
       "        <th>CODE</th>\n",
       "        <th>GNP</th>\n",
       "        <th>Name</th>\n",
       "    </tr>\n",
       "    <tr>\n",
       "        <td>IND</td>\n",
       "        <td>447114</td>\n",
       "        <td>India</td>\n",
       "    </tr>\n",
       "</table>"
      ],
      "text/plain": [
       "[('IND', 447114, 'India')]"
      ]
     },
     "execution_count": 57,
     "metadata": {},
     "output_type": "execute_result"
    }
   ],
   "source": [
    "%%sql\n",
    "\n",
    "SELECT DISTINCT(CODE), GNP,\n",
    "CASE WHEN CODE = 'IND' THEN 'India' END AS Name\n",
    "FROM country\n",
    "WHERE POPULATION = (SELECT MAX(POPULATION) FROM country);"
   ]
  },
  {
   "cell_type": "code",
   "execution_count": null,
   "metadata": {},
   "outputs": [],
   "source": []
  }
 ],
 "metadata": {
  "kernelspec": {
   "display_name": "Python 3",
   "language": "python",
   "name": "python3"
  },
  "language_info": {
   "codemirror_mode": {
    "name": "ipython",
    "version": 3
   },
   "file_extension": ".py",
   "mimetype": "text/x-python",
   "name": "python",
   "nbconvert_exporter": "python",
   "pygments_lexer": "ipython3",
   "version": "3.8.5"
  }
 },
 "nbformat": 4,
 "nbformat_minor": 4
}
